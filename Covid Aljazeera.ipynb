{
 "cells": [
  {
   "cell_type": "markdown",
   "metadata": {},
   "source": [
    "<h1 style=\"font-family:courier new;font-size:250%\">Covid cases in different countries</h1>"
   ]
  },
  {
   "cell_type": "code",
   "execution_count": 2,
   "metadata": {},
   "outputs": [],
   "source": [
    "from bs4 import BeautifulSoup\n",
    "import pandas as pd\n",
    "import matplotlib as plt\n",
    "import urllib"
   ]
  },
  {
   "cell_type": "code",
   "execution_count": 3,
   "metadata": {},
   "outputs": [],
   "source": [
    "url=\"https://www.aljazeera.com/news/2020/01/countries-confirmed-cases-coronavirus-200125070959786.html\"\n",
    "page=urllib.request.urlopen(url)\n",
    "soup=BeautifulSoup(page,\"html.parser\")"
   ]
  },
  {
   "cell_type": "code",
   "execution_count": 43,
   "metadata": {},
   "outputs": [
    {
     "name": "stdout",
     "output_type": "stream",
     "text": [
      "[[b'United States - 1,721,926 cases, 101,621 deaths'], [b'Brazil - 438,238 cases, 26,754 deaths'], [b'Russia - 387,623 cases, 4,374 deaths'], [b'United Kingdom - 270,508 cases, 37,919 deaths'], [b'Spain - 237,906 cases, 27,119 deaths'], [b'Italy - 231,732 cases, 33,142 deaths'], [b'France - 186,364 cases, 28,665 deaths'], [b'Germany - 182,559 cases, 8,472 deaths'], [b'India - 167,442 cases, 4,797 deaths '], [b'Turkey - 160,979 cases, 4,461 deaths'], [b'Iran - 146,668 cases, 7,677 deaths'], [b'Peru - 141,779 cases, 4,099 deaths'], [b'Canada - 89,976 cases, 6,982 deaths'], [b'Chile - 86,943 cases, 890 deaths '], [b'China - 84,119 cases, 4,638 deaths'], [b'Mexico - 81,400 cases, 9,044 deaths'], [b'Saudi Arabia - 80,185 cases, 441 deaths'], [b'Pakistan - 64,028 cases, 1,317 deaths'], [b'Belgium - 58,061 cases, 9,430 deaths'], [b'Qatar - 52,907 cases, 36 deaths'], [b'Netherlands - 46,152 cases, 5,922 deaths'], [b'Bangladesh - 42,844 cases, 582 deaths '], [b'Belarus - 39,858 cases, 219 deaths'], [b'Ecuador - 38,471 cases, 3,313 deaths'], [b'Sweden - 35,727 cases, 4,266 deaths'], [b'Singapore - 33,860 cases, 23 deaths'], [b'United Arab Emirates - 32,532 cases, 258 deaths'], [b'Portugal - 31,596 cases, 1,369 deaths '], [b'Switzerland - 30,796 cases, 1,919 deaths'], [b'South Africa - 27,403 cases, 577 deaths'], [b'Colombia - 25,406 cases, 855 deaths'], [b'Indonesia - 25,216 cases, 1,520 deaths'], [b'Ireland - 24,841 cases, 1,639 deaths'], [b'Kuwait - 24,112 cases, 185 deaths '], [b'Poland - 22,964 cases, 1,043 deaths'], [b'Ukraine - 22,811 cases, 679 deaths'], [b'Egypt - 20,793 cases, 845 deaths'], [b'Romania - 18,982 cases, 1,240 deaths'], [b'Israel - 16,887 cases, 284 deaths'], [b'Austria - 16,655 cases, 668 deaths '], [b'Japan - 16,647 cases, 886 deaths'], [b'Dominican Republic - 16,068 cases, 485 deaths'], [b'Philippines - 15,588 cases, 921 deaths'], [b'Argentina - 14,702 cases, 508 deaths'], [b'Afghanistan - 13,659 cases, 246 deaths'], [b'Panama - 12,131 cases, 320 deaths'], [b'Denmark - 11,712 cases, 568 deaths'], [b'South Korea - 11,402 cases, 269 deaths'], [b'Serbia - 11,300 cases, 241 deaths '], [b'Bahrain - 10,052 cases, 15 deaths'], [b'Kazakhstan - 9,932 cases, 37 deaths'], [b'Oman - 9,820 cases, 40 deaths'], [b'Czech Republic - 9,143 cases, 319 deaths'], [b'Algeria - 8,997 cases, 630 deaths'], [b'Nigeria - 8,915 cases, 259 deaths'], [b'Armenia - 8,676 cases, 120 deaths'], [b'Norway - 8,411 cases, 236 deaths'], [b'Bolivia - 8,387 cases, 293 deaths'], [b'Malaysia - 7,732 cases, 115 deaths'], [b'Moldova - 7,725 cases, 282 deaths'], [b'Morocco - 7,697 cases, 202 deaths'], [b'Ghana - 7,616 cases, 34 deaths'], [b'Australia - 7,173 cases, 103 deaths'], [b'Finland - 6,776 cases, 313 deaths'], [b'Iraq - 5,457 cases, 179 deaths'], [b'Cameroon - 5,436 cases, 175 deaths'], [b'Azerbaijan - 4,759 cases, 56 deaths'], [b'Honduras - 4,752 cases, 196 deaths'], [b'Guatemala - 4,348 cases, 80 deaths'], [b'Sudan - 4,346 cases, 195 deaths'], [b'Luxembourg - 4,008 cases, 110 deaths'], [b'Hungary - 3,841 cases, 517 deaths'], [b'Tajikistan - 3,563 cases, 47 deaths'], [b'Guinea - 3,553 cases, 22 deaths'], [b'Uzbekistan - 3,463 cases, 14 deaths'], [b'Senegal - 3,429 cases, 41 deaths '], [b'Thailand - 3,076 cases, 57 deaths'], [b'Djibouti - 2,914 cases, 20 deaths '], [b'Greece - 2,906 cases, 175 deaths'], [b'Democratic Republic of the Congo - 2,833 cases, 69 deaths'], [b'Ivory Coast - 2,641 cases, 32 deaths '], [b'Bosnia and Herzegovina - 2,485 cases, 153 deaths'], [b'Bulgaria - 2,485 cases, 136 deaths'], [b'Gabon - 2,431 cases, 14 deaths'], [b'El Salvador - 2,278 cases, 42 deaths'], [b'Croatia - 2,245 cases, 103 deaths'], [b'North Macedonia - 2,129 cases, 126 deaths'], [b'Cuba - 1,983 cases, 82 deaths'], [b'Estonia - 1,859 cases, 67 deaths'], [b'Somalia - 1,828 cases, 72 deaths'], [b'Iceland - 1,805 cases, 10 deaths'], [b'Lithuania - 1,656 cases, 68 deaths'], [b'Kyrgyzstan - 1,594 cases, 16 deaths'], [b'Slovakia - 1,520 cases, 28 deaths'], [b'New Zealand - 1,504 cases, 22 deaths'], [b'Kenya - 1,618 cases, 58 deaths '], [b'Slovenia - 1,473 cases, 108 deaths'], [b'Sri Lanka - 1,469 cases, 10 deaths'], [b'Maldives - 1,457 cases, 5 deaths'], [b'Haiti - 1,320 cases, 34 deaths '], [b'Venezuela - 1,245 cases, 11 deaths'], [b'Guinea-Bissau - 1,195 cases, 8 deaths'], [b'Lebanon - 1,168 cases, 26 deaths'], [b'Mali - 1,194 cases, 72 deaths'], [b'Latvia - 1,061 cases, 24 deaths'], [b'Zambia - 1,057 cases, 7 deaths '], [b'Tunisia - 1,068 cases, 48 deaths'], [b'Albania - 1,076 cases, 33 deaths'], [b'Kosovo - 1,048 cases, 30 deaths '], [b'Equatorial Guinea - 1,043 cases, 12 deaths '], [b'South Sudan - 994 cases, 10 deaths'], [b'Costa Rica - 984 cases, 10 deaths'], [b'Niger - 955 cases, 64 deaths'], [b'Cyprus - 941 cases, 17 deaths '], [b'Nepal - 886 cases, 4 deaths'], [b'Paraguay - 884 cases, 11 deaths'], [b'Burkina Faso - 845 cases, 53 deaths'], [b'Uruguay - 803 cases, 22 deaths'], [b'Sierra Leone - 782 cases, 45 deaths '], [b'Andorra - 763 cases, 51 deaths'], [b'Nicaragua - 759 cases, 35 deaths '], [b'Georgia - 738 cases, 12 deaths'], [b'Ethiopia - 831 cases, 6 deaths '], [b'Jordan - 728 cases, 9 deaths'], [b'Chad - 726 cases, 65 deaths'], [b'Central African Republic - 702 cases, 1 death '], [b'San Marino - 670 cases, 42 deaths'], [b'Madagascar - 656 cases, 2 deaths  '], [b'Malta - 616 cases, 7 deaths'], [b'Republic of the Congo - 571 cases, 19 deaths'], [b'Jamaica - 569 cases, 9 deaths'], [b'Tanzania - 509 cases, 21 deaths'], [b'Sao Tome and Principe - 443 cases, 12 deaths'], [b'Taiwan - 441 cases, 7 deaths '], [b'Occupied Palestinian territories - 436 cases, 3 deaths'], [b'Togo - 395 cases, 13 deaths'], [b'Cape Verde - 390 cases, 4 deaths '], [b'Rwanda - 346 cases'], [b'Mauritius - 334 cases, 10 deaths'], [b'Vietnam - 327 cases'], [b'Montenegro - 324 cases, 9 deaths'], [b'Mauritania - 292 cases, 16 deaths'], [b'Uganda - 281 cases'], [b'Eswatini - 279 cases, 2 deaths'], [b'Liberia - 269 cases, 27 deaths'], [b'Yemen - 256 cases, 53 deaths'], [b'Mozambique - 233 cases, 1 death'], [b'Benin - 210 cases, 3 deaths'], [b'Myanmar - 206 cases, 6 deaths'], [b'Mongolia - 161 cases'], [b'Brunei - 141 cases, 2 deaths'], [b'Guyana - 139 cases, 11 deaths'], [b'Zimbabwe - 132 cases, 4 deaths'], [b'Cambodia - 124 cases'], [b'Syria - 122 cases, 4 deaths '], [b'Trinidad and Tobago - 116 cases, 8 deaths'], [b'Malawi - 101 cases, 4 deaths'], [b'Bahamas - 100 cases, 11 deaths'], [b'Libya - 99 cases, 4 deaths'], [b'Monaco - 98 cases, 4 deaths'], [b'Barbados - 92 cases, 7 deaths'], [b'Comoros - 87 cases, 2 deaths'], [b'Liechtenstein - 82 cases, 1 death'], [b'Angola - 71 cases, 4 deaths'], [b'Burundi - 42 cases, 1 death'], [b'Eritrea - 39 cases'], [b'Botswana - 35 cases, 1 death'], [b'Bhutan - 31 cases'], [b'Antigua and Barbuda - 25 cases, 3 deaths'], [b'Gambia - 25 cases, 1 death'], [b'East Timor - 24 cases'], [b'Grenada - 23 cases'], [b'Namibia - 22 cases '], [b'Laos - 19 cases'], [b'Belize - 18 cases, 2 deaths'], [b'Fiji - 18 cases'], [b'Saint Lucia - 18 cases'], [b'Saint Vincent and the Grenadines - 18 cases'], [b'Dominica - 16 cases'], [b'Saint Kitts and Nevis - 15 cases'], [b'Vatican - 12 cases'], [b'Suriname - 12 cases, 1 death'], [b'Seychelles - 11 cases'], [b'Western Sahara - 9 cases, 1 death'], [b'Papua New Guinea - 8 cases'], [b'Lesotho - 2 cases']]\n"
     ]
    }
   ],
   "source": [
    "data=[]\n",
    "frst=soup.find(\"div\",class_=\"article-p-wrapper\")\n",
    "secnd=frst.contents\n",
    "\n",
    "for i in secnd:\n",
    "    list=[]\n",
    "    if i.name==\"h3\":\n",
    "        list.append(i.getText().replace(u'\\xa0', ' ').encode('utf-8'))\n",
    "        data.append(list)\n",
    "print(data)"
   ]
  }
 ],
 "metadata": {
  "kernelspec": {
   "display_name": "Python 3",
   "language": "python",
   "name": "python3"
  },
  "language_info": {
   "codemirror_mode": {
    "name": "ipython",
    "version": 3
   },
   "file_extension": ".py",
   "mimetype": "text/x-python",
   "name": "python",
   "nbconvert_exporter": "python",
   "pygments_lexer": "ipython3",
   "version": "3.7.6"
  }
 },
 "nbformat": 4,
 "nbformat_minor": 4
}
